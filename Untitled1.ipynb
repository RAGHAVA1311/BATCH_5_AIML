{
  "nbformat": 4,
  "nbformat_minor": 0,
  "metadata": {
    "colab": {
      "provenance": [],
      "authorship_tag": "ABX9TyPuH/2xmMEAROFv8zD2NTxF",
      "include_colab_link": true
    },
    "kernelspec": {
      "name": "python3",
      "display_name": "Python 3"
    },
    "language_info": {
      "name": "python"
    }
  },
  "cells": [
    {
      "cell_type": "markdown",
      "metadata": {
        "id": "view-in-github",
        "colab_type": "text"
      },
      "source": [
        "<a href=\"https://colab.research.google.com/github/RAGHAVA1311/BATCH_5_AIML/blob/main/Untitled1.ipynb\" target=\"_parent\"><img src=\"https://colab.research.google.com/assets/colab-badge.svg\" alt=\"Open In Colab\"/></a>"
      ]
    },
    {
      "cell_type": "code",
      "execution_count": null,
      "metadata": {
        "id": "hmnFwdC2YsRJ"
      },
      "outputs": [],
      "source": [
        "from collections import namedtuple, counter , defaultdict\n",
        "import random\n",
        "import math\n",
        "import functools\n",
        "cache = functools.lru_cache(10**6)"
      ]
    },
    {
      "cell_type": "code",
      "source": [
        "class game:\n",
        "  def actions(self,state):\n",
        "    raise NotImplemented"
      ],
      "metadata": {
        "id": "iYEyYRxQbRFr"
      },
      "execution_count": null,
      "outputs": []
    },
    {
      "cell_type": "code",
      "source": [
        "def play_game(game, strategies: dict, verbose=False):\n",
        "  state=game.initial\n",
        "  while not game.is_terminal(state):\n",
        "    player=state.to_move\n",
        "    move=strategies[player](game,state)\n",
        "    state=game.result(state,move)\n",
        "    if verbose:\n",
        "      print('Player',player,'move',move)\n",
        "      print(state)\n",
        "  return state"
      ],
      "metadata": {
        "id": "AJbz99wLcEXF"
      },
      "execution_count": null,
      "outputs": []
    },
    {
      "cell_type": "code",
      "source": [],
      "metadata": {
        "id": "geW4rIZGdQb5"
      },
      "execution_count": null,
      "outputs": []
    }
  ]
}